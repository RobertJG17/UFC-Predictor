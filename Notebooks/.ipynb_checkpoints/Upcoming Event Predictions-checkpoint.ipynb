{
 "cells": [
  {
   "cell_type": "code",
   "execution_count": 4,
   "metadata": {},
   "outputs": [],
   "source": [
    "import pandas as pd\n",
    "from joblib import load"
   ]
  },
  {
   "cell_type": "code",
   "execution_count": 5,
   "metadata": {},
   "outputs": [],
   "source": [
    "final_svc = load('../Model and Scaler/final_svc.joblib')\n",
    "final_scaler = load('../Model and Scaler/final_scaler.joblib')"
   ]
  },
  {
   "cell_type": "code",
   "execution_count": 6,
   "metadata": {},
   "outputs": [],
   "source": [
    "upcoming = pd.read_csv('../Predictions/Data/upcoming-event.csv').loc[:, [\"R_fighter\", \"R_odds\", \"R_ev\", \"R_avg_SIG_STR_pct\", \"R_avg_TD_pct\", \"R_current_win_streak\",\n",
    "                                                     \"r_ko_odds\", \"r_sub_odds\",\n",
    "                            \n",
    "                                                     \"B_fighter\", \"B_odds\", \"B_ev\", \"B_avg_SIG_STR_pct\", \"B_avg_TD_pct\", \"B_current_win_streak\",\n",
    "                                                     \"b_ko_odds\", \"b_sub_odds\",\n",
    "                                                     \"Winner\"]]"
   ]
  },
  {
   "cell_type": "markdown",
   "metadata": {},
   "source": [
    "### Dropping Johns vs. Dos Santos since bout was canceled"
   ]
  },
  {
   "cell_type": "code",
   "execution_count": 7,
   "metadata": {},
   "outputs": [],
   "source": [
    "upcoming.drop(8, axis=0, inplace=True)\n",
    "upcoming = upcoming.reset_index().drop(\"index\", axis=1)"
   ]
  },
  {
   "cell_type": "code",
   "execution_count": 8,
   "metadata": {},
   "outputs": [
    {
     "data": {
      "text/plain": [
       "R_fighter                0\n",
       "R_odds                   0\n",
       "R_ev                     0\n",
       "R_avg_SIG_STR_pct        0\n",
       "R_avg_TD_pct             0\n",
       "R_current_win_streak     0\n",
       "r_ko_odds                0\n",
       "r_sub_odds               0\n",
       "B_fighter                0\n",
       "B_odds                   0\n",
       "B_ev                     0\n",
       "B_avg_SIG_STR_pct        0\n",
       "B_avg_TD_pct             0\n",
       "B_current_win_streak     0\n",
       "b_ko_odds                0\n",
       "b_sub_odds               0\n",
       "Winner                  10\n",
       "dtype: int64"
      ]
     },
     "execution_count": 8,
     "metadata": {},
     "output_type": "execute_result"
    }
   ],
   "source": [
    "upcoming.isnull().sum()"
   ]
  },
  {
   "cell_type": "code",
   "execution_count": 9,
   "metadata": {},
   "outputs": [],
   "source": [
    "X = upcoming.drop([\"R_fighter\", \"B_fighter\", \"Winner\"], axis=1)"
   ]
  },
  {
   "cell_type": "code",
   "execution_count": 10,
   "metadata": {},
   "outputs": [],
   "source": [
    "scaled_X = final_scaler.transform(X)"
   ]
  },
  {
   "cell_type": "code",
   "execution_count": 11,
   "metadata": {},
   "outputs": [],
   "source": [
    "predictions = final_svc.predict(scaled_X)"
   ]
  },
  {
   "cell_type": "code",
   "execution_count": 12,
   "metadata": {},
   "outputs": [],
   "source": [
    "probabilities = final_svc.predict_proba(scaled_X)"
   ]
  },
  {
   "cell_type": "code",
   "execution_count": 13,
   "metadata": {},
   "outputs": [
    {
     "data": {
      "text/plain": [
       "array(['Red', 'Blue', 'Blue', 'Red', 'Red', 'Red', 'Red', 'Red', 'Red',\n",
       "       'Blue'], dtype=object)"
      ]
     },
     "execution_count": 13,
     "metadata": {},
     "output_type": "execute_result"
    }
   ],
   "source": [
    "predictions"
   ]
  },
  {
   "cell_type": "code",
   "execution_count": 14,
   "metadata": {},
   "outputs": [
    {
     "data": {
      "text/plain": [
       "array([[0.26940415, 0.73059585],\n",
       "       [0.5306327 , 0.4693673 ],\n",
       "       [0.68865264, 0.31134736],\n",
       "       [0.32215564, 0.67784436],\n",
       "       [0.35045958, 0.64954042],\n",
       "       [0.29948393, 0.70051607],\n",
       "       [0.28230097, 0.71769903],\n",
       "       [0.38217229, 0.61782771],\n",
       "       [0.2718782 , 0.7281218 ],\n",
       "       [0.51804806, 0.48195194]])"
      ]
     },
     "execution_count": 14,
     "metadata": {},
     "output_type": "execute_result"
    }
   ],
   "source": [
    "probabilities"
   ]
  },
  {
   "cell_type": "code",
   "execution_count": 15,
   "metadata": {},
   "outputs": [
    {
     "data": {
      "text/html": [
       "<div>\n",
       "<style scoped>\n",
       "    .dataframe tbody tr th:only-of-type {\n",
       "        vertical-align: middle;\n",
       "    }\n",
       "\n",
       "    .dataframe tbody tr th {\n",
       "        vertical-align: top;\n",
       "    }\n",
       "\n",
       "    .dataframe thead th {\n",
       "        text-align: right;\n",
       "    }\n",
       "</style>\n",
       "<table border=\"1\" class=\"dataframe\">\n",
       "  <thead>\n",
       "    <tr style=\"text-align: right;\">\n",
       "      <th></th>\n",
       "      <th>R_fighter</th>\n",
       "      <th>B_fighter</th>\n",
       "    </tr>\n",
       "  </thead>\n",
       "  <tbody>\n",
       "    <tr>\n",
       "      <th>0</th>\n",
       "      <td>Islam Makhachev</td>\n",
       "      <td>Thiago Moises</td>\n",
       "    </tr>\n",
       "    <tr>\n",
       "      <th>1</th>\n",
       "      <td>Marion Reneau</td>\n",
       "      <td>Miesha Tate</td>\n",
       "    </tr>\n",
       "    <tr>\n",
       "      <th>2</th>\n",
       "      <td>Jeremy Stephens</td>\n",
       "      <td>Mateusz Gamrot</td>\n",
       "    </tr>\n",
       "    <tr>\n",
       "      <th>3</th>\n",
       "      <td>Rodolfo Vieira</td>\n",
       "      <td>Dustin Stoltzfus</td>\n",
       "    </tr>\n",
       "    <tr>\n",
       "      <th>4</th>\n",
       "      <td>Gabriel Benitez</td>\n",
       "      <td>Billy Quarantillo</td>\n",
       "    </tr>\n",
       "    <tr>\n",
       "      <th>5</th>\n",
       "      <td>Daniel Rodriguez</td>\n",
       "      <td>Preston Parsons</td>\n",
       "    </tr>\n",
       "    <tr>\n",
       "      <th>6</th>\n",
       "      <td>Amanda Lemos</td>\n",
       "      <td>Montserrat Conejo</td>\n",
       "    </tr>\n",
       "    <tr>\n",
       "      <th>7</th>\n",
       "      <td>Khalid Taha</td>\n",
       "      <td>Sergey Morozov</td>\n",
       "    </tr>\n",
       "    <tr>\n",
       "      <th>8</th>\n",
       "      <td>Francisco Figueiredo</td>\n",
       "      <td>Malcolm Gordon</td>\n",
       "    </tr>\n",
       "    <tr>\n",
       "      <th>9</th>\n",
       "      <td>Alan Baudot</td>\n",
       "      <td>Rodrigo Nascimento</td>\n",
       "    </tr>\n",
       "  </tbody>\n",
       "</table>\n",
       "</div>"
      ],
      "text/plain": [
       "              R_fighter           B_fighter\n",
       "0       Islam Makhachev       Thiago Moises\n",
       "1         Marion Reneau         Miesha Tate\n",
       "2       Jeremy Stephens      Mateusz Gamrot\n",
       "3        Rodolfo Vieira    Dustin Stoltzfus\n",
       "4       Gabriel Benitez   Billy Quarantillo\n",
       "5      Daniel Rodriguez     Preston Parsons\n",
       "6          Amanda Lemos   Montserrat Conejo\n",
       "7           Khalid Taha      Sergey Morozov\n",
       "8  Francisco Figueiredo      Malcolm Gordon\n",
       "9           Alan Baudot  Rodrigo Nascimento"
      ]
     },
     "execution_count": 15,
     "metadata": {},
     "output_type": "execute_result"
    }
   ],
   "source": [
    "formatted = upcoming[[\"R_fighter\", \"B_fighter\"]]\n",
    "formatted"
   ]
  },
  {
   "cell_type": "code",
   "execution_count": 16,
   "metadata": {},
   "outputs": [],
   "source": [
    "ser_pred = pd.DataFrame(data=pd.Series(predictions, name=\"Predictions\"))\n",
    "formatted = formatted.merge(ser_pred, on=formatted.index)"
   ]
  },
  {
   "cell_type": "code",
   "execution_count": 17,
   "metadata": {},
   "outputs": [],
   "source": [
    "formatted.drop(\"key_0\", axis=1, inplace=True)"
   ]
  },
  {
   "cell_type": "code",
   "execution_count": 18,
   "metadata": {},
   "outputs": [],
   "source": [
    "R_win_prob_df = pd.DataFrame(pd.Series([item[1] for item in probabilities], name=\"R_fighter_win_prob\"))\n",
    "B_win_prob_df = pd.DataFrame(pd.Series([item[0] for item in probabilities], name=\"B_fighter_win_prob\"))"
   ]
  },
  {
   "cell_type": "code",
   "execution_count": 19,
   "metadata": {},
   "outputs": [],
   "source": [
    "formatted = formatted.merge(R_win_prob_df, on=formatted.index)\n",
    "formatted.drop(\"key_0\", axis=1, inplace=True)"
   ]
  },
  {
   "cell_type": "code",
   "execution_count": 20,
   "metadata": {},
   "outputs": [],
   "source": [
    "formatted = formatted.merge(B_win_prob_df, on=formatted.index)\n",
    "formatted.drop(\"key_0\", axis=1, inplace=True)"
   ]
  },
  {
   "cell_type": "code",
   "execution_count": 21,
   "metadata": {},
   "outputs": [],
   "source": [
    "raw_pred = formatted.loc[:, [\"R_fighter\", \"B_fighter\", \"Predictions\"]]"
   ]
  },
  {
   "cell_type": "code",
   "execution_count": 22,
   "metadata": {},
   "outputs": [],
   "source": [
    "formatted = formatted.drop(\"Predictions\", axis=1)"
   ]
  },
  {
   "cell_type": "code",
   "execution_count": 23,
   "metadata": {},
   "outputs": [],
   "source": [
    "formatted = formatted.rename(columns={\"R_fighter_win_prob\": \"R_prob\", \"B_fighter_win_prob\": \"B_prob\"})"
   ]
  },
  {
   "cell_type": "code",
   "execution_count": 24,
   "metadata": {},
   "outputs": [
    {
     "data": {
      "text/html": [
       "<div>\n",
       "<style scoped>\n",
       "    .dataframe tbody tr th:only-of-type {\n",
       "        vertical-align: middle;\n",
       "    }\n",
       "\n",
       "    .dataframe tbody tr th {\n",
       "        vertical-align: top;\n",
       "    }\n",
       "\n",
       "    .dataframe thead th {\n",
       "        text-align: right;\n",
       "    }\n",
       "</style>\n",
       "<table border=\"1\" class=\"dataframe\">\n",
       "  <thead>\n",
       "    <tr style=\"text-align: right;\">\n",
       "      <th></th>\n",
       "      <th>R_fighter</th>\n",
       "      <th>B_fighter</th>\n",
       "      <th>Predictions</th>\n",
       "    </tr>\n",
       "  </thead>\n",
       "  <tbody>\n",
       "    <tr>\n",
       "      <th>0</th>\n",
       "      <td>Islam Makhachev</td>\n",
       "      <td>Thiago Moises</td>\n",
       "      <td>Red</td>\n",
       "    </tr>\n",
       "    <tr>\n",
       "      <th>1</th>\n",
       "      <td>Marion Reneau</td>\n",
       "      <td>Miesha Tate</td>\n",
       "      <td>Blue</td>\n",
       "    </tr>\n",
       "    <tr>\n",
       "      <th>2</th>\n",
       "      <td>Jeremy Stephens</td>\n",
       "      <td>Mateusz Gamrot</td>\n",
       "      <td>Blue</td>\n",
       "    </tr>\n",
       "    <tr>\n",
       "      <th>3</th>\n",
       "      <td>Rodolfo Vieira</td>\n",
       "      <td>Dustin Stoltzfus</td>\n",
       "      <td>Red</td>\n",
       "    </tr>\n",
       "    <tr>\n",
       "      <th>4</th>\n",
       "      <td>Gabriel Benitez</td>\n",
       "      <td>Billy Quarantillo</td>\n",
       "      <td>Red</td>\n",
       "    </tr>\n",
       "    <tr>\n",
       "      <th>5</th>\n",
       "      <td>Daniel Rodriguez</td>\n",
       "      <td>Preston Parsons</td>\n",
       "      <td>Red</td>\n",
       "    </tr>\n",
       "    <tr>\n",
       "      <th>6</th>\n",
       "      <td>Amanda Lemos</td>\n",
       "      <td>Montserrat Conejo</td>\n",
       "      <td>Red</td>\n",
       "    </tr>\n",
       "    <tr>\n",
       "      <th>7</th>\n",
       "      <td>Khalid Taha</td>\n",
       "      <td>Sergey Morozov</td>\n",
       "      <td>Red</td>\n",
       "    </tr>\n",
       "    <tr>\n",
       "      <th>8</th>\n",
       "      <td>Francisco Figueiredo</td>\n",
       "      <td>Malcolm Gordon</td>\n",
       "      <td>Red</td>\n",
       "    </tr>\n",
       "    <tr>\n",
       "      <th>9</th>\n",
       "      <td>Alan Baudot</td>\n",
       "      <td>Rodrigo Nascimento</td>\n",
       "      <td>Blue</td>\n",
       "    </tr>\n",
       "  </tbody>\n",
       "</table>\n",
       "</div>"
      ],
      "text/plain": [
       "              R_fighter           B_fighter Predictions\n",
       "0       Islam Makhachev       Thiago Moises         Red\n",
       "1         Marion Reneau         Miesha Tate        Blue\n",
       "2       Jeremy Stephens      Mateusz Gamrot        Blue\n",
       "3        Rodolfo Vieira    Dustin Stoltzfus         Red\n",
       "4       Gabriel Benitez   Billy Quarantillo         Red\n",
       "5      Daniel Rodriguez     Preston Parsons         Red\n",
       "6          Amanda Lemos   Montserrat Conejo         Red\n",
       "7           Khalid Taha      Sergey Morozov         Red\n",
       "8  Francisco Figueiredo      Malcolm Gordon         Red\n",
       "9           Alan Baudot  Rodrigo Nascimento        Blue"
      ]
     },
     "execution_count": 24,
     "metadata": {},
     "output_type": "execute_result"
    }
   ],
   "source": [
    "raw_pred"
   ]
  },
  {
   "cell_type": "code",
   "execution_count": 25,
   "metadata": {},
   "outputs": [
    {
     "data": {
      "text/html": [
       "<div>\n",
       "<style scoped>\n",
       "    .dataframe tbody tr th:only-of-type {\n",
       "        vertical-align: middle;\n",
       "    }\n",
       "\n",
       "    .dataframe tbody tr th {\n",
       "        vertical-align: top;\n",
       "    }\n",
       "\n",
       "    .dataframe thead th {\n",
       "        text-align: right;\n",
       "    }\n",
       "</style>\n",
       "<table border=\"1\" class=\"dataframe\">\n",
       "  <thead>\n",
       "    <tr style=\"text-align: right;\">\n",
       "      <th></th>\n",
       "      <th>R_fighter</th>\n",
       "      <th>B_fighter</th>\n",
       "      <th>R_prob</th>\n",
       "      <th>B_prob</th>\n",
       "    </tr>\n",
       "  </thead>\n",
       "  <tbody>\n",
       "    <tr>\n",
       "      <th>0</th>\n",
       "      <td>Islam Makhachev</td>\n",
       "      <td>Thiago Moises</td>\n",
       "      <td>0.730596</td>\n",
       "      <td>0.269404</td>\n",
       "    </tr>\n",
       "    <tr>\n",
       "      <th>1</th>\n",
       "      <td>Marion Reneau</td>\n",
       "      <td>Miesha Tate</td>\n",
       "      <td>0.469367</td>\n",
       "      <td>0.530633</td>\n",
       "    </tr>\n",
       "    <tr>\n",
       "      <th>2</th>\n",
       "      <td>Jeremy Stephens</td>\n",
       "      <td>Mateusz Gamrot</td>\n",
       "      <td>0.311347</td>\n",
       "      <td>0.688653</td>\n",
       "    </tr>\n",
       "    <tr>\n",
       "      <th>3</th>\n",
       "      <td>Rodolfo Vieira</td>\n",
       "      <td>Dustin Stoltzfus</td>\n",
       "      <td>0.677844</td>\n",
       "      <td>0.322156</td>\n",
       "    </tr>\n",
       "    <tr>\n",
       "      <th>4</th>\n",
       "      <td>Gabriel Benitez</td>\n",
       "      <td>Billy Quarantillo</td>\n",
       "      <td>0.649540</td>\n",
       "      <td>0.350460</td>\n",
       "    </tr>\n",
       "    <tr>\n",
       "      <th>5</th>\n",
       "      <td>Daniel Rodriguez</td>\n",
       "      <td>Preston Parsons</td>\n",
       "      <td>0.700516</td>\n",
       "      <td>0.299484</td>\n",
       "    </tr>\n",
       "    <tr>\n",
       "      <th>6</th>\n",
       "      <td>Amanda Lemos</td>\n",
       "      <td>Montserrat Conejo</td>\n",
       "      <td>0.717699</td>\n",
       "      <td>0.282301</td>\n",
       "    </tr>\n",
       "    <tr>\n",
       "      <th>7</th>\n",
       "      <td>Khalid Taha</td>\n",
       "      <td>Sergey Morozov</td>\n",
       "      <td>0.617828</td>\n",
       "      <td>0.382172</td>\n",
       "    </tr>\n",
       "    <tr>\n",
       "      <th>8</th>\n",
       "      <td>Francisco Figueiredo</td>\n",
       "      <td>Malcolm Gordon</td>\n",
       "      <td>0.728122</td>\n",
       "      <td>0.271878</td>\n",
       "    </tr>\n",
       "    <tr>\n",
       "      <th>9</th>\n",
       "      <td>Alan Baudot</td>\n",
       "      <td>Rodrigo Nascimento</td>\n",
       "      <td>0.481952</td>\n",
       "      <td>0.518048</td>\n",
       "    </tr>\n",
       "  </tbody>\n",
       "</table>\n",
       "</div>"
      ],
      "text/plain": [
       "              R_fighter           B_fighter    R_prob    B_prob\n",
       "0       Islam Makhachev       Thiago Moises  0.730596  0.269404\n",
       "1         Marion Reneau         Miesha Tate  0.469367  0.530633\n",
       "2       Jeremy Stephens      Mateusz Gamrot  0.311347  0.688653\n",
       "3        Rodolfo Vieira    Dustin Stoltzfus  0.677844  0.322156\n",
       "4       Gabriel Benitez   Billy Quarantillo  0.649540  0.350460\n",
       "5      Daniel Rodriguez     Preston Parsons  0.700516  0.299484\n",
       "6          Amanda Lemos   Montserrat Conejo  0.717699  0.282301\n",
       "7           Khalid Taha      Sergey Morozov  0.617828  0.382172\n",
       "8  Francisco Figueiredo      Malcolm Gordon  0.728122  0.271878\n",
       "9           Alan Baudot  Rodrigo Nascimento  0.481952  0.518048"
      ]
     },
     "execution_count": 25,
     "metadata": {},
     "output_type": "execute_result"
    }
   ],
   "source": [
    "formatted"
   ]
  },
  {
   "cell_type": "code",
   "execution_count": 26,
   "metadata": {},
   "outputs": [],
   "source": [
    "formatted.to_csv('../Predictions/task-final-submission.csv')"
   ]
  },
  {
   "cell_type": "code",
   "execution_count": null,
   "metadata": {},
   "outputs": [],
   "source": []
  },
  {
   "cell_type": "markdown",
   "metadata": {},
   "source": [
    "# Correct:\n",
    "* Baudot vs. Nascimento\n",
    "* Lemos vs. Conejo\n",
    "* Rodriguez vs. Parsons\n",
    "* Stephens vs. Gamrot\n",
    "* Reneau vs. Tate\n",
    "* Vieira vs. Stoltzfus\n",
    "* Makhachev vs. Moises"
   ]
  },
  {
   "cell_type": "markdown",
   "metadata": {},
   "source": [
    "# Incorrect:\n",
    "* Figueiredo vs. Gordon\n",
    "* Taha vs. Morozov\n",
    "* Benitez vs. Quarantillo"
   ]
  },
  {
   "cell_type": "code",
   "execution_count": 27,
   "metadata": {},
   "outputs": [],
   "source": [
    "true = raw_pred.Predictions\n",
    "true[4], true[7], true[8] = \"Blue\", \"Blue\", \"Blue\""
   ]
  },
  {
   "cell_type": "code",
   "execution_count": 28,
   "metadata": {},
   "outputs": [],
   "source": [
    "from sklearn.metrics import plot_confusion_matrix, classification_report\n",
    "import matplotlib.pyplot as plt"
   ]
  },
  {
   "cell_type": "code",
   "execution_count": 29,
   "metadata": {},
   "outputs": [
    {
     "data": {
      "image/png": "[encoded data removed]",
      "text/plain": [
       "<Figure size 3200x1600 with 2 Axes>"
      ]
     },
     "metadata": {
      "needs_background": "light"
     },
     "output_type": "display_data"
    }
   ],
   "source": [
    "fig, ax = plt.subplots(figsize=(16,8), dpi=200)\n",
    "plot_confusion_matrix(final_svc, scaled_X, true, ax=ax)\n",
    "plt.show();"
   ]
  },
  {
   "cell_type": "code",
   "execution_count": 30,
   "metadata": {},
   "outputs": [
    {
     "name": "stdout",
     "output_type": "stream",
     "text": [
      "              precision    recall  f1-score   support\n",
      "\n",
      "        Blue       1.00      0.50      0.67         6\n",
      "         Red       0.57      1.00      0.73         4\n",
      "\n",
      "    accuracy                           0.70        10\n",
      "   macro avg       0.79      0.75      0.70        10\n",
      "weighted avg       0.83      0.70      0.69        10\n",
      "\n"
     ]
    }
   ],
   "source": [
    "print(classification_report(true, predictions))"
   ]
  },
  {
   "cell_type": "code",
   "execution_count": null,
   "metadata": {},
   "outputs": [],
   "source": []
  }
 ],
 "metadata": {
  "kernelspec": {
   "display_name": "Python 3",
   "language": "python",
   "name": "python3"
  },
  "language_info": {
   "codemirror_mode": {
    "name": "ipython",
    "version": 3
   },
   "file_extension": ".py",
   "mimetype": "text/x-python",
   "name": "python",
   "nbconvert_exporter": "python",
   "pygments_lexer": "ipython3",
   "version": "3.8.5"
  }
 },
 "nbformat": 4,
 "nbformat_minor": 4
}
