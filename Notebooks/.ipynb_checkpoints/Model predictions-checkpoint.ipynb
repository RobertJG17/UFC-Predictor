{
 "cells": [
  {
   "cell_type": "code",
   "execution_count": 1,
   "metadata": {},
   "outputs": [],
   "source": [
    "import pandas as pd"
   ]
  },
  {
   "cell_type": "code",
   "execution_count": 2,
   "metadata": {},
   "outputs": [],
   "source": [
    "upcoming = pd.read_csv('../Upcoming Data/upcoming-event.csv')"
   ]
  },
  {
   "cell_type": "code",
   "execution_count": 3,
   "metadata": {},
   "outputs": [
    {
     "data": {
      "text/html": [
       "<div>\n",
       "<style scoped>\n",
       "    .dataframe tbody tr th:only-of-type {\n",
       "        vertical-align: middle;\n",
       "    }\n",
       "\n",
       "    .dataframe tbody tr th {\n",
       "        vertical-align: top;\n",
       "    }\n",
       "\n",
       "    .dataframe thead th {\n",
       "        text-align: right;\n",
       "    }\n",
       "</style>\n",
       "<table border=\"1\" class=\"dataframe\">\n",
       "  <thead>\n",
       "    <tr style=\"text-align: right;\">\n",
       "      <th></th>\n",
       "      <th>R_fighter</th>\n",
       "      <th>B_fighter</th>\n",
       "      <th>R_odds</th>\n",
       "      <th>B_odds</th>\n",
       "      <th>R_ev</th>\n",
       "      <th>B_ev</th>\n",
       "      <th>date</th>\n",
       "      <th>location</th>\n",
       "      <th>country</th>\n",
       "      <th>Winner</th>\n",
       "      <th>...</th>\n",
       "      <th>finish_details</th>\n",
       "      <th>finish_round</th>\n",
       "      <th>finish_round_time</th>\n",
       "      <th>total_fight_time_secs</th>\n",
       "      <th>r_dec_odds</th>\n",
       "      <th>b_dec_odds</th>\n",
       "      <th>r_sub_odds</th>\n",
       "      <th>b_sub_odds</th>\n",
       "      <th>r_ko_odds</th>\n",
       "      <th>b_ko_odds</th>\n",
       "    </tr>\n",
       "  </thead>\n",
       "  <tbody>\n",
       "    <tr>\n",
       "      <th>0</th>\n",
       "      <td>Edson Barboza</td>\n",
       "      <td>Giga Chikadze</td>\n",
       "      <td>-125</td>\n",
       "      <td>105</td>\n",
       "      <td>80.000000</td>\n",
       "      <td>105.0</td>\n",
       "      <td>2021-08-28</td>\n",
       "      <td>Las Vegas, Nevada, USA</td>\n",
       "      <td>USA</td>\n",
       "      <td>NaN</td>\n",
       "      <td>...</td>\n",
       "      <td>NaN</td>\n",
       "      <td>NaN</td>\n",
       "      <td>NaN</td>\n",
       "      <td>NaN</td>\n",
       "      <td>300</td>\n",
       "      <td>350</td>\n",
       "      <td>1400</td>\n",
       "      <td>2500</td>\n",
       "      <td>200</td>\n",
       "      <td>225</td>\n",
       "    </tr>\n",
       "    <tr>\n",
       "      <th>1</th>\n",
       "      <td>Bryan Battle</td>\n",
       "      <td>Gilbert Urbina</td>\n",
       "      <td>-180</td>\n",
       "      <td>155</td>\n",
       "      <td>55.555556</td>\n",
       "      <td>155.0</td>\n",
       "      <td>2021-08-28</td>\n",
       "      <td>Las Vegas, Nevada, USA</td>\n",
       "      <td>USA</td>\n",
       "      <td>NaN</td>\n",
       "      <td>...</td>\n",
       "      <td>NaN</td>\n",
       "      <td>NaN</td>\n",
       "      <td>NaN</td>\n",
       "      <td>NaN</td>\n",
       "      <td>175</td>\n",
       "      <td>350</td>\n",
       "      <td>450</td>\n",
       "      <td>650</td>\n",
       "      <td>400</td>\n",
       "      <td>700</td>\n",
       "    </tr>\n",
       "    <tr>\n",
       "      <th>2</th>\n",
       "      <td>Ricky Turcios</td>\n",
       "      <td>Brady Hiestand</td>\n",
       "      <td>-150</td>\n",
       "      <td>130</td>\n",
       "      <td>66.666667</td>\n",
       "      <td>130.0</td>\n",
       "      <td>2021-08-28</td>\n",
       "      <td>Las Vegas, Nevada, USA</td>\n",
       "      <td>USA</td>\n",
       "      <td>NaN</td>\n",
       "      <td>...</td>\n",
       "      <td>NaN</td>\n",
       "      <td>NaN</td>\n",
       "      <td>NaN</td>\n",
       "      <td>NaN</td>\n",
       "      <td>150</td>\n",
       "      <td>275</td>\n",
       "      <td>700</td>\n",
       "      <td>800</td>\n",
       "      <td>400</td>\n",
       "      <td>700</td>\n",
       "    </tr>\n",
       "  </tbody>\n",
       "</table>\n",
       "<p>3 rows × 119 columns</p>\n",
       "</div>"
      ],
      "text/plain": [
       "       R_fighter       B_fighter  R_odds  B_odds       R_ev   B_ev  \\\n",
       "0  Edson Barboza   Giga Chikadze    -125     105  80.000000  105.0   \n",
       "1   Bryan Battle  Gilbert Urbina    -180     155  55.555556  155.0   \n",
       "2  Ricky Turcios  Brady Hiestand    -150     130  66.666667  130.0   \n",
       "\n",
       "         date                location country  Winner  ...  finish_details  \\\n",
       "0  2021-08-28  Las Vegas, Nevada, USA     USA     NaN  ...             NaN   \n",
       "1  2021-08-28  Las Vegas, Nevada, USA     USA     NaN  ...             NaN   \n",
       "2  2021-08-28  Las Vegas, Nevada, USA     USA     NaN  ...             NaN   \n",
       "\n",
       "  finish_round finish_round_time  total_fight_time_secs  r_dec_odds  \\\n",
       "0          NaN               NaN                    NaN         300   \n",
       "1          NaN               NaN                    NaN         175   \n",
       "2          NaN               NaN                    NaN         150   \n",
       "\n",
       "   b_dec_odds  r_sub_odds  b_sub_odds  r_ko_odds  b_ko_odds  \n",
       "0         350        1400        2500        200        225  \n",
       "1         350         450         650        400        700  \n",
       "2         275         700         800        400        700  \n",
       "\n",
       "[3 rows x 119 columns]"
      ]
     },
     "execution_count": 3,
     "metadata": {},
     "output_type": "execute_result"
    }
   ],
   "source": [
    "upcoming.head(3)"
   ]
  },
  {
   "cell_type": "code",
   "execution_count": 4,
   "metadata": {},
   "outputs": [],
   "source": [
    "features = upcoming.loc[:, \n",
    "    [\n",
    "        \"B_odds\", \"R_odds\", \"B_ev\", \"R_ev\", \"b_dec_odds\", \"r_dec_odds\",\n",
    "        \"b_ko_odds\", \"r_ko_odds\", \"b_sub_odds\", \"r_sub_odds\", \"Winner\"\n",
    "    ]\n",
    "]"
   ]
  },
  {
   "cell_type": "code",
   "execution_count": 5,
   "metadata": {},
   "outputs": [],
   "source": [
    "X = features.drop([\"Winner\"], axis=1)"
   ]
  },
  {
   "cell_type": "code",
   "execution_count": 6,
   "metadata": {},
   "outputs": [],
   "source": [
    "from joblib import load"
   ]
  },
  {
   "cell_type": "code",
   "execution_count": 7,
   "metadata": {},
   "outputs": [],
   "source": [
    "final_rfc = load('../Model and Scaler/final_rfc.joblib')"
   ]
  },
  {
   "cell_type": "code",
   "execution_count": 8,
   "metadata": {},
   "outputs": [],
   "source": [
    "predictions = final_rfc.predict(X)"
   ]
  },
  {
   "cell_type": "code",
   "execution_count": 9,
   "metadata": {},
   "outputs": [],
   "source": [
    "probabilities = final_rfc.predict_proba(X)"
   ]
  },
  {
   "cell_type": "code",
   "execution_count": 10,
   "metadata": {},
   "outputs": [
    {
     "data": {
      "text/plain": [
       "array(['Red', 'Red', 'Blue', 'Blue', 'Red', 'Red', 'Red', 'Red', 'Red',\n",
       "       'Red', 'Blue', 'Red'], dtype=object)"
      ]
     },
     "execution_count": 10,
     "metadata": {},
     "output_type": "execute_result"
    }
   ],
   "source": [
    "predictions"
   ]
  },
  {
   "cell_type": "code",
   "execution_count": 11,
   "metadata": {},
   "outputs": [
    {
     "data": {
      "text/plain": [
       "array([[0.38070576, 0.61929424],\n",
       "       [0.44841291, 0.55158709],\n",
       "       [0.6167587 , 0.3832413 ],\n",
       "       [0.67477196, 0.32522804],\n",
       "       [0.12893802, 0.87106198],\n",
       "       [0.12942506, 0.87057494],\n",
       "       [0.33179071, 0.66820929],\n",
       "       [0.35664844, 0.64335156],\n",
       "       [0.39139426, 0.60860574],\n",
       "       [0.04168846, 0.95831154],\n",
       "       [0.54838863, 0.45161137],\n",
       "       [0.42718611, 0.57281389]])"
      ]
     },
     "execution_count": 11,
     "metadata": {},
     "output_type": "execute_result"
    }
   ],
   "source": [
    "probabilities"
   ]
  },
  {
   "cell_type": "code",
   "execution_count": 14,
   "metadata": {},
   "outputs": [],
   "source": [
    "pred_df = upcoming.loc[:, [\"R_fighter\", \"B_fighter\"]]\n",
    "pred_df[\"Predictions\"] = predictions"
   ]
  },
  {
   "cell_type": "code",
   "execution_count": 15,
   "metadata": {},
   "outputs": [],
   "source": [
    "prob_df = upcoming.loc[:, [\"R_fighter\", \"B_fighter\"]]\n",
    "prob_df[\"R_prob\"] = probabilities[:, 1]\n",
    "prob_df[\"B_prob\"] = probabilities[:, 0]"
   ]
  },
  {
   "cell_type": "code",
   "execution_count": 19,
   "metadata": {
    "scrolled": false
   },
   "outputs": [
    {
     "data": {
      "text/html": [
       "<div>\n",
       "<style scoped>\n",
       "    .dataframe tbody tr th:only-of-type {\n",
       "        vertical-align: middle;\n",
       "    }\n",
       "\n",
       "    .dataframe tbody tr th {\n",
       "        vertical-align: top;\n",
       "    }\n",
       "\n",
       "    .dataframe thead th {\n",
       "        text-align: right;\n",
       "    }\n",
       "</style>\n",
       "<table border=\"1\" class=\"dataframe\">\n",
       "  <thead>\n",
       "    <tr style=\"text-align: right;\">\n",
       "      <th></th>\n",
       "      <th>R_fighter</th>\n",
       "      <th>B_fighter</th>\n",
       "      <th>Predictions</th>\n",
       "    </tr>\n",
       "  </thead>\n",
       "  <tbody>\n",
       "    <tr>\n",
       "      <th>0</th>\n",
       "      <td>Edson Barboza</td>\n",
       "      <td>Giga Chikadze</td>\n",
       "      <td>Red</td>\n",
       "    </tr>\n",
       "    <tr>\n",
       "      <th>1</th>\n",
       "      <td>Bryan Battle</td>\n",
       "      <td>Gilbert Urbina</td>\n",
       "      <td>Red</td>\n",
       "    </tr>\n",
       "    <tr>\n",
       "      <th>2</th>\n",
       "      <td>Ricky Turcios</td>\n",
       "      <td>Brady Hiestand</td>\n",
       "      <td>Blue</td>\n",
       "    </tr>\n",
       "    <tr>\n",
       "      <th>3</th>\n",
       "      <td>Kevin Lee</td>\n",
       "      <td>Daniel Rodriguez</td>\n",
       "      <td>Blue</td>\n",
       "    </tr>\n",
       "    <tr>\n",
       "      <th>4</th>\n",
       "      <td>Andre Petroski</td>\n",
       "      <td>Micheal Gillmore</td>\n",
       "      <td>Red</td>\n",
       "    </tr>\n",
       "    <tr>\n",
       "      <th>5</th>\n",
       "      <td>Makhmud Muradov</td>\n",
       "      <td>Gerald Meerschaert</td>\n",
       "      <td>Red</td>\n",
       "    </tr>\n",
       "    <tr>\n",
       "      <th>6</th>\n",
       "      <td>Alessio Di Chirico</td>\n",
       "      <td>Abdul Razak Alhassan</td>\n",
       "      <td>Red</td>\n",
       "    </tr>\n",
       "    <tr>\n",
       "      <th>7</th>\n",
       "      <td>Sam Alvey</td>\n",
       "      <td>Wellington Turman</td>\n",
       "      <td>Red</td>\n",
       "    </tr>\n",
       "    <tr>\n",
       "      <th>8</th>\n",
       "      <td>Dustin Jacoby</td>\n",
       "      <td>Darren Stewart</td>\n",
       "      <td>Red</td>\n",
       "    </tr>\n",
       "    <tr>\n",
       "      <th>9</th>\n",
       "      <td>JJ Aldrich</td>\n",
       "      <td>Vanessa Demopoulos</td>\n",
       "      <td>Red</td>\n",
       "    </tr>\n",
       "    <tr>\n",
       "      <th>10</th>\n",
       "      <td>Jamall Emmers</td>\n",
       "      <td>Pat Sabatini</td>\n",
       "      <td>Blue</td>\n",
       "    </tr>\n",
       "    <tr>\n",
       "      <th>11</th>\n",
       "      <td>Mana Martinez</td>\n",
       "      <td>Guido Cannetti</td>\n",
       "      <td>Red</td>\n",
       "    </tr>\n",
       "  </tbody>\n",
       "</table>\n",
       "</div>"
      ],
      "text/plain": [
       "             R_fighter             B_fighter Predictions\n",
       "0        Edson Barboza         Giga Chikadze         Red\n",
       "1         Bryan Battle        Gilbert Urbina         Red\n",
       "2        Ricky Turcios        Brady Hiestand        Blue\n",
       "3            Kevin Lee      Daniel Rodriguez        Blue\n",
       "4       Andre Petroski      Micheal Gillmore         Red\n",
       "5      Makhmud Muradov    Gerald Meerschaert         Red\n",
       "6   Alessio Di Chirico  Abdul Razak Alhassan         Red\n",
       "7            Sam Alvey     Wellington Turman         Red\n",
       "8        Dustin Jacoby        Darren Stewart         Red\n",
       "9           JJ Aldrich    Vanessa Demopoulos         Red\n",
       "10       Jamall Emmers          Pat Sabatini        Blue\n",
       "11       Mana Martinez        Guido Cannetti         Red"
      ]
     },
     "execution_count": 19,
     "metadata": {},
     "output_type": "execute_result"
    }
   ],
   "source": [
    "pred_df"
   ]
  },
  {
   "cell_type": "code",
   "execution_count": 20,
   "metadata": {},
   "outputs": [
    {
     "data": {
      "text/html": [
       "<div>\n",
       "<style scoped>\n",
       "    .dataframe tbody tr th:only-of-type {\n",
       "        vertical-align: middle;\n",
       "    }\n",
       "\n",
       "    .dataframe tbody tr th {\n",
       "        vertical-align: top;\n",
       "    }\n",
       "\n",
       "    .dataframe thead th {\n",
       "        text-align: right;\n",
       "    }\n",
       "</style>\n",
       "<table border=\"1\" class=\"dataframe\">\n",
       "  <thead>\n",
       "    <tr style=\"text-align: right;\">\n",
       "      <th></th>\n",
       "      <th>R_fighter</th>\n",
       "      <th>B_fighter</th>\n",
       "      <th>R_prob</th>\n",
       "      <th>B_prob</th>\n",
       "    </tr>\n",
       "  </thead>\n",
       "  <tbody>\n",
       "    <tr>\n",
       "      <th>0</th>\n",
       "      <td>Edson Barboza</td>\n",
       "      <td>Giga Chikadze</td>\n",
       "      <td>0.619294</td>\n",
       "      <td>0.380706</td>\n",
       "    </tr>\n",
       "    <tr>\n",
       "      <th>1</th>\n",
       "      <td>Bryan Battle</td>\n",
       "      <td>Gilbert Urbina</td>\n",
       "      <td>0.551587</td>\n",
       "      <td>0.448413</td>\n",
       "    </tr>\n",
       "    <tr>\n",
       "      <th>2</th>\n",
       "      <td>Ricky Turcios</td>\n",
       "      <td>Brady Hiestand</td>\n",
       "      <td>0.383241</td>\n",
       "      <td>0.616759</td>\n",
       "    </tr>\n",
       "    <tr>\n",
       "      <th>3</th>\n",
       "      <td>Kevin Lee</td>\n",
       "      <td>Daniel Rodriguez</td>\n",
       "      <td>0.325228</td>\n",
       "      <td>0.674772</td>\n",
       "    </tr>\n",
       "    <tr>\n",
       "      <th>4</th>\n",
       "      <td>Andre Petroski</td>\n",
       "      <td>Micheal Gillmore</td>\n",
       "      <td>0.871062</td>\n",
       "      <td>0.128938</td>\n",
       "    </tr>\n",
       "    <tr>\n",
       "      <th>5</th>\n",
       "      <td>Makhmud Muradov</td>\n",
       "      <td>Gerald Meerschaert</td>\n",
       "      <td>0.870575</td>\n",
       "      <td>0.129425</td>\n",
       "    </tr>\n",
       "    <tr>\n",
       "      <th>6</th>\n",
       "      <td>Alessio Di Chirico</td>\n",
       "      <td>Abdul Razak Alhassan</td>\n",
       "      <td>0.668209</td>\n",
       "      <td>0.331791</td>\n",
       "    </tr>\n",
       "    <tr>\n",
       "      <th>7</th>\n",
       "      <td>Sam Alvey</td>\n",
       "      <td>Wellington Turman</td>\n",
       "      <td>0.643352</td>\n",
       "      <td>0.356648</td>\n",
       "    </tr>\n",
       "    <tr>\n",
       "      <th>8</th>\n",
       "      <td>Dustin Jacoby</td>\n",
       "      <td>Darren Stewart</td>\n",
       "      <td>0.608606</td>\n",
       "      <td>0.391394</td>\n",
       "    </tr>\n",
       "    <tr>\n",
       "      <th>9</th>\n",
       "      <td>JJ Aldrich</td>\n",
       "      <td>Vanessa Demopoulos</td>\n",
       "      <td>0.958312</td>\n",
       "      <td>0.041688</td>\n",
       "    </tr>\n",
       "    <tr>\n",
       "      <th>10</th>\n",
       "      <td>Jamall Emmers</td>\n",
       "      <td>Pat Sabatini</td>\n",
       "      <td>0.451611</td>\n",
       "      <td>0.548389</td>\n",
       "    </tr>\n",
       "    <tr>\n",
       "      <th>11</th>\n",
       "      <td>Mana Martinez</td>\n",
       "      <td>Guido Cannetti</td>\n",
       "      <td>0.572814</td>\n",
       "      <td>0.427186</td>\n",
       "    </tr>\n",
       "  </tbody>\n",
       "</table>\n",
       "</div>"
      ],
      "text/plain": [
       "             R_fighter             B_fighter    R_prob    B_prob\n",
       "0        Edson Barboza         Giga Chikadze  0.619294  0.380706\n",
       "1         Bryan Battle        Gilbert Urbina  0.551587  0.448413\n",
       "2        Ricky Turcios        Brady Hiestand  0.383241  0.616759\n",
       "3            Kevin Lee      Daniel Rodriguez  0.325228  0.674772\n",
       "4       Andre Petroski      Micheal Gillmore  0.871062  0.128938\n",
       "5      Makhmud Muradov    Gerald Meerschaert  0.870575  0.129425\n",
       "6   Alessio Di Chirico  Abdul Razak Alhassan  0.668209  0.331791\n",
       "7            Sam Alvey     Wellington Turman  0.643352  0.356648\n",
       "8        Dustin Jacoby        Darren Stewart  0.608606  0.391394\n",
       "9           JJ Aldrich    Vanessa Demopoulos  0.958312  0.041688\n",
       "10       Jamall Emmers          Pat Sabatini  0.451611  0.548389\n",
       "11       Mana Martinez        Guido Cannetti  0.572814  0.427186"
      ]
     },
     "execution_count": 20,
     "metadata": {},
     "output_type": "execute_result"
    }
   ],
   "source": [
    "prob_df"
   ]
  },
  {
   "cell_type": "code",
   "execution_count": 26,
   "metadata": {},
   "outputs": [],
   "source": [
    "formatted.to_csv('../Predictions/task-submission.csv')"
   ]
  }
 ],
 "metadata": {
  "kernelspec": {
   "display_name": "Python 3",
   "language": "python",
   "name": "python3"
  },
  "language_info": {
   "codemirror_mode": {
    "name": "ipython",
    "version": 3
   },
   "file_extension": ".py",
   "mimetype": "text/x-python",
   "name": "python",
   "nbconvert_exporter": "python",
   "pygments_lexer": "ipython3",
   "version": "3.8.5"
  }
 },
 "nbformat": 4,
 "nbformat_minor": 4
}
